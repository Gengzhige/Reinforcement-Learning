{
 "cells": [
  {
   "cell_type": "markdown",
   "id": "4a99dc10",
   "metadata": {},
   "source": [
    "### 初始化环境"
   ]
  },
  {
   "cell_type": "code",
   "execution_count": 1,
   "id": "f67fe74b",
   "metadata": {},
   "outputs": [],
   "source": [
    "# 在jupyter notebook里env.render看不到窗口\n",
    "# 写一个helper类，用matplotlib刷新显示图像\n",
    "# 初始化传入env，调用helper的render即可\n",
    "from IPython import display # 导入display模块，用于在Jupyter Notebook中显示图像\n",
    "import matplotlib\n",
    "import matplotlib.pyplot as plt # 导入matplotlib库，用于绘制图像\n",
    "%matplotlib inline\n",
    "\n",
    "class GymHelper:\n",
    "    def __init__(self, env, figsize = (3, 3)):\n",
    "        self.env = env # 初始化Gym环境\n",
    "        self.figsize = figsize # 初始化绘图窗口大小\n",
    "        \n",
    "        plt.figure(figsize = figsize) # 创建绘图窗口\n",
    "        plt.title(self.env.spec.id) # 标题设为环境名\n",
    "        self.img = plt.imshow(env.render()) # 在绘图窗口中显示初始图像\n",
    "    \n",
    "    def render(self, title = None):\n",
    "        image_data = self.env.render() # 获取当前环境图像渲染数据\n",
    "        \n",
    "        self.img.set_data(image_data) # 更新绘图窗口中的图像数据\n",
    "        display.display(plt.gcf()) # 刷新显示\n",
    "        display.clear_output(wait = True) # 有新图片时再清除绘图窗口原有图像\n",
    "        if title: # 如果有标题，就显示标题\n",
    "            plt.title(title)"
   ]
  },
  {
   "cell_type": "code",
   "execution_count": 2,
   "id": "713ab4b3",
   "metadata": {},
   "outputs": [
    {
     "data": {
      "image/png": "[encoded data removed]",
      "text/plain": [
       "<Figure size 216x216 with 1 Axes>"
      ]
     },
     "metadata": {
      "needs_background": "light"
     },
     "output_type": "display_data"
    }
   ],
   "source": [
    "# 导入gym库\n",
    "import gym\n",
    "\n",
    "# 创建环境，指定渲染模式为rgb_array，如果是在IDE中可以改为'human'\n",
    "env = gym.make('Acrobot-v1', render_mode='rgb_array')\n",
    "# 重置环境\n",
    "env.reset()\n",
    "# 创建GymHelper\n",
    "gym_helper = GymHelper(env)\n",
    "\n",
    "# 循环N次\n",
    "for i in range(20):\n",
    "    gym_helper.render(title = str(i)) # 渲染环境\n",
    "    action = env.action_space.sample() # 从动作空间中随机选取一个动作\n",
    "    observation, reward, terminated, truncated, info = env.step(action) # 执行动作\n",
    "    if terminated or truncated: # 如果游戏结束，则结束循环\n",
    "        break\n",
    "\n",
    "# 游戏结束\n",
    "gym_helper.render(title = \"Finished\")\n",
    "# 关闭环境\n",
    "env.close()"
   ]
  },
  {
   "cell_type": "markdown",
   "id": "3e470bd0",
   "metadata": {},
   "source": [
    "环境介绍 https://www.gymlibrary.dev/environments/classic_control/acrobot/"
   ]
  },
  {
   "cell_type": "markdown",
   "id": "9a2b64ac",
   "metadata": {},
   "source": [
    "### PPO"
   ]
  },
  {
   "cell_type": "code",
   "execution_count": 3,
   "id": "a20b13d2",
   "metadata": {},
   "outputs": [],
   "source": [
    "# 导入必要的库\n",
    "import torch\n",
    "import torch.nn as nn\n",
    "import torch.optim as optim\n",
    "import torch.nn.functional as F\n",
    "\n",
    "import numpy as np\n",
    "import sys\n",
    "import time\n",
    "import random\n",
    "import collections\n",
    "from tqdm import * # 用于显示进度条\n",
    "\n",
    "# 策略模型，给定状态生成各个动作的概率\n",
    "class PolicyModel(nn.Module):\n",
    "    def __init__(self, input_dim, output_dim):\n",
    "        super(PolicyModel, self).__init__()\n",
    "        \n",
    "        # 使用全连接层构建一个简单的神经网络，ReLU作为激活函数\n",
    "        # 最后加一个Softmax层，使得输出可以看作是概率分布\n",
    "        self.fc = nn.Sequential(\n",
    "            nn.Linear(input_dim, 128),\n",
    "            nn.ReLU(),\n",
    "            nn.Linear(128, 128),\n",
    "            nn.ReLU(),\n",
    "            nn.Linear(128, output_dim),\n",
    "            nn.Softmax(dim = 1)\n",
    "        )\n",
    "\n",
    "    # 定义前向传播，输出动作概率分布\n",
    "    def forward(self, x):\n",
    "        action_prob = self.fc(x)\n",
    "        return action_prob\n",
    "\n",
    "# 价值模型，给定状态估计价值\n",
    "class ValueModel(nn.Module):\n",
    "    def __init__(self, input_dim):\n",
    "        super(ValueModel, self).__init__()\n",
    "        \n",
    "        # 网络结构和策略模型类似，但是输出层只有一个节点\n",
    "        self.fc = nn.Sequential(\n",
    "            nn.Linear(input_dim, 128),\n",
    "            nn.ReLU(),\n",
    "            nn.Linear(128, 128),\n",
    "            nn.ReLU(),\n",
    "            nn.Linear(128, 1)\n",
    "        )\n",
    "\n",
    "    # 定义前向传播，输出价值估计\n",
    "    def forward(self, x):\n",
    "        value = self.fc(x)\n",
    "        return value"
   ]
  },
  {
   "cell_type": "code",
   "execution_count": 4,
   "id": "bb8919f6",
   "metadata": {},
   "outputs": [],
   "source": [
    "# 定义PPO类\n",
    "class PPO:\n",
    "    # 构造函数，参数包含环境，学习率，折扣因子，优势计算参数，clip参数，训练轮数\n",
    "    def __init__(self, env, learning_rate=0.001, gamma=0.99, lamda=0.95, clip_eps=0.2, epochs=10):\n",
    "        self.env = env\n",
    "        self.gamma = gamma\n",
    "        self.lamda = lamda\n",
    "        self.clip_eps = clip_eps\n",
    "        self.epochs = epochs\n",
    "\n",
    "        # 判断可用的设备是 CPU 还是 GPU\n",
    "        self.device = torch.device(\"cuda\" if torch.cuda.is_available() else \"cpu\")\n",
    "\n",
    "        # 根据环境的观测空间和动作空间，定义策略模型和价值模型，并将模型移动到指定设备上\n",
    "        self.policy_model = PolicyModel(env.observation_space.shape[0], env.action_space.n).to(self.device)\n",
    "        self.value_model = ValueModel(env.observation_space.shape[0]).to(self.device)\n",
    "\n",
    "        # 定义Adam优化器\n",
    "        self.policy_optimizer = torch.optim.Adam(self.policy_model.parameters(), lr=learning_rate)\n",
    "        self.value_optimizer = torch.optim.Adam(self.value_model.parameters(), lr=learning_rate)\n",
    "    \n",
    "    # 使用策略模型生成动作概率分布并采样\n",
    "    def choose_action(self, state):\n",
    "        # 将状态转换为tensor输入模型\n",
    "        state = torch.FloatTensor(np.array([state])).to(self.device)\n",
    "        with torch.no_grad():\n",
    "            action_prob = self.policy_model(state)\n",
    "        \n",
    "        # 生成分布后采样返回动作\n",
    "        c = torch.distributions.Categorical(action_prob)\n",
    "        action = c.sample()\n",
    "        return action.item()\n",
    "    \n",
    "    # 广义优势估计\n",
    "    def calc_advantage(self, td_delta):\n",
    "        # 将TD误差转换为numpy数组\n",
    "        td_delta = td_delta.cpu().detach().numpy()\n",
    "        # 初始化优势函数值及存储优势值的列表\n",
    "        advantage = 0\n",
    "        advantage_list = []\n",
    "        # 反向遍历，从最后一步开始倒推\n",
    "        for r in td_delta[::-1]:\n",
    "            # 将当前步的TD误差及上一步优势加权值作为当前步的优势\n",
    "            advantage = r + self.gamma * self.lamda * advantage\n",
    "            # 将优势值加到列表开头，最终得到顺序序列\n",
    "            advantage_list.insert(0, advantage)\n",
    "        # 转换为tensor后返回\n",
    "        return torch.FloatTensor(np.array(advantage_list)).to(self.device)\n",
    "    \n",
    "    # 模型更新\n",
    "    def update(self, buffer):\n",
    "        # 取出数据，并将其转换为numpy数组\n",
    "        # 然后进一步转换为tensor，并将数据转移到指定计算资源设备上\n",
    "        states, actions, rewards, next_states, dones = zip(*buffer)\n",
    "        states = torch.FloatTensor(np.array(states)).to(self.device)\n",
    "        actions = torch.tensor(np.array(actions)).view(-1, 1).to(self.device)\n",
    "        rewards = torch.FloatTensor(np.array(rewards)).view(-1, 1).to(self.device)\n",
    "        next_states = torch.FloatTensor(np.array(next_states)).to(self.device)\n",
    "        dones = torch.FloatTensor(np.array(dones)).view(-1, 1).to(self.device)\n",
    "\n",
    "        with torch.no_grad():\n",
    "            # 计算旧策略下的动作概率\n",
    "            old_action_prob = torch.log(self.policy_model(states).gather(1, actions))\n",
    "            \n",
    "            # 计算TD目标及误差\n",
    "            td_target = rewards + (1 - dones) * self.gamma * self.value_model(next_states)\n",
    "            td_delta = td_target - self.value_model(states)\n",
    "        \n",
    "        # 优势估计\n",
    "        advantage = self.calc_advantage(td_delta)\n",
    "        \n",
    "        # 多步更新策略\n",
    "        for i in range(self.epochs):\n",
    "            # 计算新策略下的动作概率\n",
    "            action_prob = torch.log(self.policy_model(states).gather(1, actions))\n",
    "            # 计算策略动作概率比\n",
    "            ratio = torch.exp(action_prob - old_action_prob)\n",
    "            \n",
    "            # CLIP修剪\n",
    "            part1 = ratio * advantage\n",
    "            part2 = torch.clamp(ratio, 1 - self.clip_eps, 1 + self.clip_eps) * advantage\n",
    "            # 计算策略损失\n",
    "            policy_loss = -torch.min(part1, part2).mean()\n",
    "            # 计算价值损失\n",
    "            value_loss = F.mse_loss(self.value_model(states), td_target).mean()\n",
    "            \n",
    "            # 梯度清零、反向传播、更新参数\n",
    "            self.policy_optimizer.zero_grad()\n",
    "            self.value_optimizer.zero_grad()\n",
    "            policy_loss.backward()\n",
    "            value_loss.backward()\n",
    "            self.policy_optimizer.step()\n",
    "            self.value_optimizer.step()"
   ]
  },
  {
   "cell_type": "code",
   "execution_count": 5,
   "id": "58d673b2",
   "metadata": {
    "scrolled": false
   },
   "outputs": [
    {
     "name": "stdout",
     "output_type": "stream",
     "text": [
      "Episode 0: -500.0                      \n",
      "Episode 30: -258.0                              \n",
      "Episode 60: -216.0                              \n",
      "Episode 90: -92.0                               \n",
      "Episode 120: -77.0                               \n",
      "Episode 150: -77.0                               \n",
      "Episode 180: -85.0                               \n",
      "Episode 210: -77.0                               \n",
      "Episode 240: -93.0                               \n",
      "Episode 270: -80.0                               \n",
      "100%|██████████| 300/300 [00:17<00:00, 17.50it/s]\n"
     ]
    }
   ],
   "source": [
    "# 定义超参数\n",
    "max_episodes = 300 # 训练episode数\n",
    "max_steps = 500 # 每个回合的最大步数\n",
    "\n",
    "# 创建PPO对象\n",
    "agent = PPO(env)\n",
    "# 定义保存每个回合奖励的列表\n",
    "episode_rewards = []\n",
    "\n",
    "# 开始循环，tqdm用于显示进度条并评估任务时间开销\n",
    "for episode in tqdm(range(max_episodes), file=sys.stdout):\n",
    "    # 重置环境并获取初始状态\n",
    "    state, _ = env.reset()\n",
    "    # 当前回合的奖励\n",
    "    episode_reward = 0\n",
    "    # 记录每个episode的信息\n",
    "    buffer = []\n",
    "\n",
    "    # 循环进行每一步操作\n",
    "    for step in range(max_steps):\n",
    "        # 根据当前状态选择动作\n",
    "        action = agent.choose_action(state)\n",
    "        # 执行动作，获取新的信息\n",
    "        next_state, reward, terminated, truncated, info = env.step(action)\n",
    "        # 判断是否达到终止状态\n",
    "        done = terminated or truncated\n",
    "        \n",
    "        # 将这个五元组加到buffer中\n",
    "        buffer.append((state, action, reward, next_state, done))\n",
    "        # 累计奖励\n",
    "        episode_reward += reward\n",
    "        \n",
    "        # 更新当前状态\n",
    "        state = next_state\n",
    "\n",
    "        if done:\n",
    "            break\n",
    "    \n",
    "    # 更新策略\n",
    "    agent.update(buffer)\n",
    "    # 记录当前回合奖励值\n",
    "    episode_rewards.append(episode_reward)\n",
    "    \n",
    "    # 打印中间值\n",
    "    if episode % (max_episodes // 10) == 0:\n",
    "        tqdm.write(\"Episode \" + str(episode) + \": \" + str(episode_reward))"
   ]
  },
  {
   "cell_type": "code",
   "execution_count": 6,
   "id": "410fa6ed",
   "metadata": {
    "scrolled": false
   },
   "outputs": [
    {
     "data": {
      "image/png": "[encoded data removed]",
      "text/plain": [
       "<Figure size 640x480 with 1 Axes>"
      ]
     },
     "metadata": {},
     "output_type": "display_data"
    }
   ],
   "source": [
    "# 使用Matplotlib绘制奖励值的曲线图\n",
    "plt.plot(episode_rewards)\n",
    "plt.title(\"reward\")\n",
    "plt.show()"
   ]
  },
  {
   "cell_type": "code",
   "execution_count": 7,
   "id": "5e2eed4c",
   "metadata": {},
   "outputs": [
    {
     "data": {
      "image/png": "[encoded data removed]",
      "text/plain": [
       "<Figure size 216x216 with 1 Axes>"
      ]
     },
     "metadata": {
      "needs_background": "light"
     },
     "output_type": "display_data"
    }
   ],
   "source": [
    "# 重置环境，开始新的一轮游戏\n",
    "observation, _ = env.reset()\n",
    "# 创建GymHelper对象来辅助显示\n",
    "gym_helper = GymHelper(env, figsize = (3, 3))\n",
    "\n",
    "# 开始游戏\n",
    "for i in range(500):\n",
    "    # 渲染环境，title为当前步骤数\n",
    "    gym_helper.render(title = str(i))\n",
    "    \n",
    "    # 找到当前状态下的最优动作\n",
    "    action = agent.choose_action(observation)\n",
    "    # 执行action，获取新的信息\n",
    "    observation, reward, terminated, truncated, info = env.step(action)\n",
    "    \n",
    "    # 如果游戏结束，则结束当前循环\n",
    "    if terminated or truncated:\n",
    "        break\n",
    "\n",
    "# 游戏结束\n",
    "gym_helper.render(title = \"Finished\")\n",
    "# 关闭环境\n",
    "env.close()"
   ]
  }
 ],
 "metadata": {
  "kernelspec": {
   "display_name": "Python 3 (ipykernel)",
   "language": "python",
   "name": "python3"
  },
  "language_info": {
   "codemirror_mode": {
    "name": "ipython",
    "version": 3
   },
   "file_extension": ".py",
   "mimetype": "text/x-python",
   "name": "python",
   "nbconvert_exporter": "python",
   "pygments_lexer": "ipython3",
   "version": "3.8.10"
  }
 },
 "nbformat": 4,
 "nbformat_minor": 5
}
