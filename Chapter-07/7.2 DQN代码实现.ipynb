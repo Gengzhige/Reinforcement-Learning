{
 "cells": [
  {
   "cell_type": "markdown",
   "id": "7421cef5",
   "metadata": {},
   "source": [
    "### 初始化环境"
   ]
  },
  {
   "cell_type": "code",
   "execution_count": 1,
   "id": "18cdf54d",
   "metadata": {},
   "outputs": [],
   "source": [
    "# 在jupyter notebook里env.render看不到窗口\n",
    "# 写一个helper类，用matplotlib刷新显示图像\n",
    "# 初始化传入env，调用helper的render即可\n",
    "from IPython import display # 导入display模块，用于在Jupyter Notebook中显示图像\n",
    "import matplotlib\n",
    "import matplotlib.pyplot as plt # 导入matplotlib库，用于绘制图像\n",
    "%matplotlib inline\n",
    "\n",
    "class GymHelper:\n",
    "    def __init__(self, env, figsize = (3, 3)):\n",
    "        self.env = env # 初始化Gym环境\n",
    "        self.figsize = figsize # 初始化绘图窗口大小\n",
    "        \n",
    "        plt.figure(figsize = figsize) # 创建绘图窗口\n",
    "        plt.title(self.env.spec.id) # 标题设为环境名\n",
    "        self.img = plt.imshow(env.render()) # 在绘图窗口中显示初始图像\n",
    "    \n",
    "    def render(self, title = None):\n",
    "        image_data = self.env.render() # 获取当前环境图像渲染数据\n",
    "        \n",
    "        self.img.set_data(image_data) # 更新绘图窗口中的图像数据\n",
    "        display.display(plt.gcf()) # 刷新显示\n",
    "        display.clear_output(wait = True) # 有新图片时再清除绘图窗口原有图像\n",
    "        if title: # 如果有标题，就显示标题\n",
    "            plt.title(title)"
   ]
  },
  {
   "cell_type": "code",
   "execution_count": 2,
   "id": "5881877f",
   "metadata": {},
   "outputs": [
    {
     "data": {
      "image/png": "[encoded data removed]",
      "text/plain": [
       "<Figure size 216x216 with 1 Axes>"
      ]
     },
     "metadata": {
      "needs_background": "light"
     },
     "output_type": "display_data"
    }
   ],
   "source": [
    "# 导入gym库\n",
    "import gym\n",
    "\n",
    "# 创建CartPole环境，指定渲染模式为rgb_array，如果是在IDE中可以改为'human'\n",
    "env = gym.make('CartPole-v1', render_mode='rgb_array')\n",
    "# 重置环境\n",
    "env.reset()\n",
    "# 创建GymHelper\n",
    "gym_helper = GymHelper(env)\n",
    "\n",
    "# 循环N次\n",
    "for i in range(100):\n",
    "    gym_helper.render(title = str(i)) # 渲染环境\n",
    "    action = env.action_space.sample() # 从动作空间中随机选取一个动作\n",
    "    observation, reward, terminated, truncated, info = env.step(action) # 执行动作\n",
    "    if terminated or truncated: # 如果游戏结束，则结束循环\n",
    "        break\n",
    "\n",
    "# 游戏结束\n",
    "gym_helper.render(title = \"Finished\")\n",
    "# 关闭环境\n",
    "env.close()"
   ]
  },
  {
   "cell_type": "markdown",
   "id": "1a86c4be",
   "metadata": {},
   "source": [
    "环境介绍 https://www.gymlibrary.dev/environments/classic_control/cart_pole/"
   ]
  },
  {
   "cell_type": "markdown",
   "id": "294a8fd4",
   "metadata": {},
   "source": [
    "### DQN"
   ]
  },
  {
   "cell_type": "code",
   "execution_count": 3,
   "id": "ce08e15f",
   "metadata": {},
   "outputs": [],
   "source": [
    "# 导入必要的库\n",
    "import torch\n",
    "import torch.nn as nn\n",
    "import torch.optim as optim\n",
    "import torch.nn.functional as F\n",
    "\n",
    "import numpy as np\n",
    "import sys\n",
    "import time\n",
    "import random\n",
    "import collections\n",
    "from tqdm import * # 用于显示进度条\n",
    "\n",
    "# 定义简单神经网络\n",
    "class Net(nn.Module):\n",
    "    def __init__(self, input_dim, output_dim):\n",
    "        super(Net, self).__init__()\n",
    "        self.input_dim = input_dim # 网络的输入维度\n",
    "        self.output_dim = output_dim # 网络的输出维度\n",
    "        \n",
    "        # 定义一个仅包含全连接层的网络，激活函数使用ReLU函数\n",
    "        self.fc = nn.Sequential(\n",
    "            nn.Linear(self.input_dim, 64),\n",
    "            nn.ReLU(),\n",
    "            nn.Linear(64, 128),\n",
    "            nn.ReLU(),\n",
    "            nn.Linear(128, self.output_dim)\n",
    "        )\n",
    "    \n",
    "    # 定义前向传播，输出动作Q值\n",
    "    def forward(self, state):\n",
    "        action = self.fc(state)\n",
    "        return action"
   ]
  },
  {
   "cell_type": "code",
   "execution_count": 4,
   "id": "f7ebfe82",
   "metadata": {},
   "outputs": [],
   "source": [
    "# 经验回放缓冲区\n",
    "class ReplayBuffer:\n",
    "    # 构造函数，max_size是缓冲区的最大容量\n",
    "    def __init__(self, max_size):\n",
    "        self.max_size = max_size\n",
    "        self.buffer = collections.deque(maxlen = self.max_size)  # 用collections的队列存储，先进先出\n",
    "\n",
    "    # 添加experience（五元组）到缓冲区\n",
    "    def add(self, state, action, reward, next_state, done):\n",
    "        experience = (state, action, reward, next_state, done)\n",
    "        self.buffer.append(experience)\n",
    "\n",
    "    # 从buffer中随机采样，数量为batch_size\n",
    "    def sample(self, batch_size):\n",
    "        batch = random.sample(self.buffer, batch_size)\n",
    "        state, action, reward, next_state, done = zip(*batch)\n",
    "        return state, action, reward, next_state, done\n",
    "    \n",
    "    # 返回缓冲区数据数量\n",
    "    def __len__(self):\n",
    "        return len(self.buffer)"
   ]
  },
  {
   "cell_type": "code",
   "execution_count": 5,
   "id": "23fb1098",
   "metadata": {},
   "outputs": [],
   "source": [
    "# 定义DQN类\n",
    "class DQN:\n",
    "    # 构造函数，参数包含环境，学习率，折扣因子，经验回放缓冲区大小，目标网络更新频率\n",
    "    def __init__(self, env, learning_rate=0.001, gamma=0.99, buffer_size=10000, T=10):\n",
    "        self.env = env\n",
    "        self.learning_rate = learning_rate\n",
    "        self.gamma = gamma\n",
    "        self.replay_buffer = ReplayBuffer(max_size=buffer_size)\n",
    "        self.T = T\n",
    "\n",
    "        # 判断可用的设备是 CPU 还是 GPU\n",
    "        self.device = torch.device(\"cuda\" if torch.cuda.is_available() else \"cpu\")\n",
    "\n",
    "        # 定义Q网络和目标网络，模型结构是一样的\n",
    "        self.model = Net(env.observation_space.shape[0], env.action_space.n).to(self.device)\n",
    "        self.target_model = Net(env.observation_space.shape[0], env.action_space.n).to(self.device)\n",
    "\n",
    "        # 初始化时，令目标网络的参数就等于Q网络的参数\n",
    "        for param, target_param in zip(self.model.parameters(), self.target_model.parameters()):\n",
    "            target_param.data.copy_(param)\n",
    "\n",
    "        # 定义Adam优化器\n",
    "        self.optimizer = torch.optim.Adam(self.model.parameters(), lr=learning_rate)\n",
    "        \n",
    "        # 记录模型更新的次数，用于决定何时更新目标模型\n",
    "        self.update_count = 0\n",
    "    \n",
    "    # 根据epsilon-greedy策略选择动作\n",
    "    def choose_action(self, state, epsilon=0.1):\n",
    "        if np.random.rand() < epsilon: # 以epsilon的概率随机选择一个动作\n",
    "            return np.random.randint(self.env.action_space.n)\n",
    "        else: # 否则选择模型认为最优的动作\n",
    "            state = torch.FloatTensor(np.array([state])).to(self.device)\n",
    "            action = self.model(state).argmax().item()\n",
    "            return action\n",
    "    \n",
    "    # 计算损失函数，参数batch为随机采样的一批数据\n",
    "    def compute_loss(self, batch):\n",
    "        # 取出数据，并将其转换为numpy数组\n",
    "        # 然后进一步转换为tensor，并将数据转移到指定计算资源设备上\n",
    "        states, actions, rewards, next_states, dones = batch\n",
    "        states = torch.FloatTensor(np.array(states)).to(self.device)\n",
    "        actions = torch.tensor(np.array(actions)).view(-1, 1).to(self.device)\n",
    "        rewards = torch.FloatTensor(np.array(rewards)).view(-1, 1).to(self.device)\n",
    "        next_states = torch.FloatTensor(np.array(next_states)).to(self.device)\n",
    "        dones = torch.FloatTensor(np.array(dones)).view(-1, 1).to(self.device)\n",
    "\n",
    "        # 计算当前Q值，即Q网络对当前状态动作样本对的Q值估计\n",
    "        curr_Q = self.model(states).gather(1, actions)\n",
    "        # 计算目标网络对下一状态的Q值估计\n",
    "        next_Q = self.target_model(next_states)\n",
    "        # 选择下一状态中最大的Q值\n",
    "        max_next_Q = torch.max(next_Q, 1)[0].view(-1, 1)\n",
    "        # 计算期望的Q值，若达到终止状态则直接是reward\n",
    "        expected_Q = rewards + (1 - dones) * self.gamma * max_next_Q\n",
    "        \n",
    "        # 计算当前Q值和期望Q值之间的均方误差，返回结果\n",
    "        loss = torch.mean(F.mse_loss(curr_Q, expected_Q))\n",
    "        return loss\n",
    "    \n",
    "    # 模型更新，参数为批次大小\n",
    "    def update(self, batch_size):\n",
    "        # 从经验回放缓冲区中随机采样\n",
    "        batch = self.replay_buffer.sample(batch_size)\n",
    "        # 计算这部分数据的损失\n",
    "        loss = self.compute_loss(batch)\n",
    "\n",
    "        # 梯度清零、反向传播、更新参数\n",
    "        self.optimizer.zero_grad()\n",
    "        loss.backward()\n",
    "        self.optimizer.step()\n",
    "        \n",
    "        # 每隔一段时间，更新目标网络的参数\n",
    "        if self.update_count % self.T == 0:\n",
    "            for param, target_param in zip(self.model.parameters(), self.target_model.parameters()):\n",
    "                target_param.data.copy_(param)\n",
    "        # 记录模型更新的次数\n",
    "        self.update_count += 1"
   ]
  },
  {
   "cell_type": "code",
   "execution_count": 6,
   "id": "66c03c71",
   "metadata": {},
   "outputs": [
    {
     "name": "stdout",
     "output_type": "stream",
     "text": [
      "Episode 0: 11.0                        \n",
      "Episode 40: 97.0                                \n",
      "Episode 80: 268.0                               \n",
      "Episode 120: 484.0                               \n",
      "Episode 160: 432.0                               \n",
      "100%|██████████| 200/200 [01:54<00:00,  1.74it/s]\n"
     ]
    }
   ],
   "source": [
    "# 定义超参数\n",
    "max_episodes = 200 # 训练episode数\n",
    "max_steps = 500 # 每个回合的最大步数\n",
    "batch_size = 32 # 采样数\n",
    "\n",
    "# 创建DQN对象\n",
    "agent = DQN(env)\n",
    "# 定义保存每个回合奖励的列表\n",
    "episode_rewards = []\n",
    "\n",
    "# 开始循环，tqdm用于显示进度条并评估任务时间开销\n",
    "for episode in tqdm(range(max_episodes), file=sys.stdout):\n",
    "    # 重置环境并获取初始状态\n",
    "    state, _ = env.reset()\n",
    "    # 当前回合的奖励\n",
    "    episode_reward = 0\n",
    "\n",
    "    # 循环进行每一步操作\n",
    "    for step in range(max_steps):\n",
    "        # 根据当前状态选择动作\n",
    "        action = agent.choose_action(state)\n",
    "        # 执行动作，获取新的信息\n",
    "        next_state, reward, terminated, truncated, info = env.step(action)\n",
    "        # 判断是否达到终止状态\n",
    "        done = terminated or truncated\n",
    "        \n",
    "        # 将这个五元组加到缓冲区中\n",
    "        agent.replay_buffer.add(state, action, reward, next_state, done)\n",
    "        # 累计奖励\n",
    "        episode_reward += reward\n",
    "\n",
    "        # 如果经验回放缓冲区已经有足够数据，就更新网络参数\n",
    "        if len(agent.replay_buffer) > batch_size:\n",
    "            agent.update(batch_size)\n",
    "        \n",
    "        # 更新当前状态\n",
    "        state = next_state\n",
    "\n",
    "        if done:\n",
    "            break\n",
    "    # 记录当前回合奖励值\n",
    "    episode_rewards.append(episode_reward)\n",
    "    # 打印中间值\n",
    "    if episode % 40 == 0:\n",
    "        tqdm.write(\"Episode \" + str(episode) + \": \" + str(episode_reward))"
   ]
  },
  {
   "cell_type": "code",
   "execution_count": 7,
   "id": "442cc706",
   "metadata": {
    "scrolled": false
   },
   "outputs": [
    {
     "data": {
      "image/png": "[encoded data removed]",
      "text/plain": [
       "<Figure size 640x480 with 1 Axes>"
      ]
     },
     "metadata": {},
     "output_type": "display_data"
    }
   ],
   "source": [
    "# 使用Matplotlib绘制奖励值的曲线图\n",
    "plt.plot(episode_rewards)\n",
    "plt.title(\"reward\")\n",
    "plt.show()"
   ]
  },
  {
   "cell_type": "code",
   "execution_count": 12,
   "id": "f5ab5837",
   "metadata": {},
   "outputs": [
    {
     "data": {
      "image/png": "[encoded data removed]",
      "text/plain": [
       "<Figure size 216x216 with 1 Axes>"
      ]
     },
     "metadata": {
      "needs_background": "light"
     },
     "output_type": "display_data"
    }
   ],
   "source": [
    "# 重置环境，开始新的一轮游戏\n",
    "observation, _ = env.reset()\n",
    "# 创建GymHelper对象来辅助显示\n",
    "gym_helper = GymHelper(env, figsize = (3, 3))\n",
    "\n",
    "# 开始游戏\n",
    "for i in range(500):\n",
    "    # 渲染环境，title为当前步骤数\n",
    "    gym_helper.render(title = str(i))\n",
    "    \n",
    "    # 通过Q网络找到当前状态下的最优动作\n",
    "    action = agent.choose_action(observation, 0)\n",
    "    # 执行action，获取新的信息\n",
    "    observation, reward, terminated, truncated, info = env.step(action)\n",
    "    \n",
    "    # 如果游戏结束，则结束当前循环\n",
    "    if terminated or truncated:\n",
    "        break\n",
    "\n",
    "# 游戏结束\n",
    "gym_helper.render(title = \"Finished\")\n",
    "# 关闭环境\n",
    "env.close()"
   ]
  }
 ],
 "metadata": {
  "kernelspec": {
   "display_name": "Python 3 (ipykernel)",
   "language": "python",
   "name": "python3"
  },
  "language_info": {
   "codemirror_mode": {
    "name": "ipython",
    "version": 3
   },
   "file_extension": ".py",
   "mimetype": "text/x-python",
   "name": "python",
   "nbconvert_exporter": "python",
   "pygments_lexer": "ipython3",
   "version": "3.8.10"
  }
 },
 "nbformat": 4,
 "nbformat_minor": 5
}
